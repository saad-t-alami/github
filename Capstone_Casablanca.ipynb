{
 "cells": [
  {
   "cell_type": "markdown",
   "metadata": {},
   "source": [
    "# Capstone Project - Housing Sales Prices & Venues Data Analysis of Casablanca-Morocco\n",
    "### Applied Data Science Capstone by Saad TOUHAMI EL ALAMI"
   ]
  },
  {
   "cell_type": "markdown",
   "metadata": {},
   "source": [
    "## Table of contents\n",
    "* [Introduction: Business Problem](#introduction)\n",
    "* [Data](#data)\n",
    "* [Methodology](#methodology)\n",
    "* [Analysis](#analysis)\n",
    "* [Results and Discussion](#results)\n",
    "* [Conclusion](#conclusion)"
   ]
  },
  {
   "cell_type": "markdown",
   "metadata": {},
   "source": [
    "## Introduction: Business Problem <a name=\"introduction\"></a>"
   ]
  },
  {
   "cell_type": "markdown",
   "metadata": {},
   "source": [
    "Casablanca is a port city on the Atlantic coast of western Morocco. It is Morocco's biggest city, principal port, and economic capital. The town of Casablanca was founded in 1515. It was an important strategic port during World War II and hosted the Anglo-American Summit in 1943. The city is served by Mohammed V International Airport. Casablanca covers the richest and most sophisticated aspects of Morocco life, style, and architecture. Casablanca boasts one of the most extensive and diverse displays of art deco architecture in the world.\n",
    "\n",
    "At the center of the former 'Great Casablanca' region (currently part of the Casablanca-Settat administrative region), this metropole is considered the locomotive of the development of the Moroccan economy. It attracts 32% of the country's production units and 56% of industrial labor. The region uses 30% of the national electricity production.The region contributes to 44% of the industrial production of the kingdom of Morocco. About 33% of national industrial exports, MAD 27 billion, comes from the Grand Casablanca; 30% of the Moroccan banking network is concentrated in Casablanca.\n",
    "\n",
    "Based on a recent report released by the World Economic Forum (WEF), Casablanca is amongst the world’s most crowded cities. With a population density of 14,200 inhabitants per square kilometer, Casablanca came fifth in the world and first in Africa.\n",
    "\n",
    "The idea behind this project is to combine venue data with house sales pricing (apartment per square meter price) and try to analyze, index and cluster the results for better understanding of what could motivate a future home owner in Casablanca in his or her choice of district/neighborhood."
   ]
  },
  {
   "cell_type": "markdown",
   "metadata": {},
   "source": [
    "![](Morocco.png)"
   ]
  },
  {
   "cell_type": "markdown",
   "metadata": {},
   "source": [
    "## Data "
   ]
  },
  {
   "cell_type": "code",
   "execution_count": null,
   "metadata": {},
   "outputs": [],
   "source": []
  }
 ],
 "metadata": {
  "kernelspec": {
   "display_name": "Python",
   "language": "python",
   "name": "conda-env-python-py"
  },
  "language_info": {
   "codemirror_mode": {
    "name": "ipython",
    "version": 3
   },
   "file_extension": ".py",
   "mimetype": "text/x-python",
   "name": "python",
   "nbconvert_exporter": "python",
   "pygments_lexer": "ipython3",
   "version": "3.6.7"
  }
 },
 "nbformat": 4,
 "nbformat_minor": 4
}
